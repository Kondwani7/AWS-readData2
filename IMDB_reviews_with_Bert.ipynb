{
  "nbformat": 4,
  "nbformat_minor": 0,
  "metadata": {
    "colab": {
      "name": "IMDB reviews with Bert.ipynb",
      "provenance": [],
      "collapsed_sections": [],
      "authorship_tag": "ABX9TyMFWg177VZQ5dWEe3qNRsox",
      "include_colab_link": true
    },
    "kernelspec": {
      "name": "python3",
      "display_name": "Python 3"
    },
    "language_info": {
      "name": "python"
    }
  },
  "cells": [
    {
      "cell_type": "markdown",
      "metadata": {
        "id": "view-in-github",
        "colab_type": "text"
      },
      "source": [
        "<a href=\"https://colab.research.google.com/github/Kondwani7/AWS-readData2/blob/main/IMDB_reviews_with_Bert.ipynb\" target=\"_parent\"><img src=\"https://colab.research.google.com/assets/colab-badge.svg\" alt=\"Open In Colab\"/></a>"
      ]
    },
    {
      "cell_type": "code",
      "metadata": {
        "id": "YOxhp5vS6vpu"
      },
      "source": [
        "#Bidirectional Encoded Representations from Transformers BERT, a large step from an LSTM, an array of transformers, mainlu used for Deep learning NLP tasks\n",
        "# by bidrectional, it means it no longer restricted to the left to right (feed forward) structure of previous models and transformers\n",
        "#making it ideal for fine tuning, such as question and answering, not to restricted to specific architechures"
      ],
      "execution_count": null,
      "outputs": []
    },
    {
      "cell_type": "code",
      "metadata": {
        "colab": {
          "base_uri": "https://localhost:8080/"
        },
        "id": "MlgqQWqPFz9_",
        "outputId": "c0217394-73df-44df-e63e-2d47e553ca82"
      },
      "source": [
        "# A dependency of the preprocessing for BERT inputs\n",
        "!pip install -q -U tensorflow-text"
      ],
      "execution_count": null,
      "outputs": [
        {
          "output_type": "stream",
          "text": [
            "\u001b[K     |████████████████████████████████| 4.3 MB 7.7 MB/s \n",
            "\u001b[?25h"
          ],
          "name": "stdout"
        }
      ]
    },
    {
      "cell_type": "code",
      "metadata": {
        "colab": {
          "base_uri": "https://localhost:8080/"
        },
        "id": "2H27jlS8F5cd",
        "outputId": "b1de5fab-da65-4a09-a5ab-702b8822fe6a"
      },
      "source": [
        "#get the various models\n",
        "!pip install -q tf-models-official"
      ],
      "execution_count": null,
      "outputs": [
        {
          "output_type": "stream",
          "text": [
            "\u001b[K     |████████████████████████████████| 1.6 MB 7.5 MB/s \n",
            "\u001b[K     |████████████████████████████████| 54 kB 3.2 MB/s \n",
            "\u001b[K     |████████████████████████████████| 43 kB 2.3 MB/s \n",
            "\u001b[K     |████████████████████████████████| 679 kB 49.7 MB/s \n",
            "\u001b[K     |████████████████████████████████| 636 kB 50.0 MB/s \n",
            "\u001b[K     |████████████████████████████████| 211 kB 50.6 MB/s \n",
            "\u001b[K     |████████████████████████████████| 99 kB 11.4 MB/s \n",
            "\u001b[K     |████████████████████████████████| 352 kB 45.7 MB/s \n",
            "\u001b[K     |████████████████████████████████| 1.2 MB 48.4 MB/s \n",
            "\u001b[K     |████████████████████████████████| 37.1 MB 47 kB/s \n",
            "\u001b[?25h  Building wheel for py-cpuinfo (setup.py) ... \u001b[?25l\u001b[?25hdone\n",
            "  Building wheel for seqeval (setup.py) ... \u001b[?25l\u001b[?25hdone\n"
          ],
          "name": "stdout"
        }
      ]
    },
    {
      "cell_type": "code",
      "metadata": {
        "id": "SJ1LxIIzGAgQ"
      },
      "source": [
        "import os\n",
        "import shutil\n",
        "\n",
        "import tensorflow as tf\n",
        "import tensorflow_hub as hub\n",
        "import tensorflow_text as text\n",
        "from official.nlp import optimization # create a custom AdamW optimizer\n",
        "\n",
        "import matplotlib.pyplot as plt\n",
        "\n",
        "tf.get_logger().setLevel('ERROR')"
      ],
      "execution_count": null,
      "outputs": []
    },
    {
      "cell_type": "code",
      "metadata": {
        "colab": {
          "base_uri": "https://localhost:8080/"
        },
        "id": "VlaLYQmSGOgM",
        "outputId": "46735efc-8049-4ba6-ef48-dfab72d9d3df"
      },
      "source": [
        "#download the data\n",
        "url = 'https://ai.stanford.edu/~amaas/data/sentiment/aclImdb_v1.tar.gz'\n",
        "\n",
        "dataset = tf.keras.utils.get_file('aclImdb_v1.tar.gz', url,\n",
        "                                  untar=True, cache_dir='.',\n",
        "                                  cache_subdir='')\n",
        "\n",
        "dataset_dir = os.path.join(os.path.dirname(dataset), 'aclImdb')\n",
        "\n",
        "train_dir = os.path.join(dataset_dir, 'train')\n",
        "\n",
        "# remove unused folders to make it easier to load the data\n",
        "remove_dir = os.path.join(train_dir, 'unsup')\n",
        "shutil.rmtree(remove_dir)"
      ],
      "execution_count": null,
      "outputs": [
        {
          "output_type": "stream",
          "text": [
            "Downloading data from https://ai.stanford.edu/~amaas/data/sentiment/aclImdb_v1.tar.gz\n",
            "84131840/84125825 [==============================] - 1s 0us/step\n"
          ],
          "name": "stdout"
        }
      ]
    },
    {
      "cell_type": "code",
      "metadata": {
        "colab": {
          "base_uri": "https://localhost:8080/"
        },
        "id": "P41MlKPHHJqN",
        "outputId": "e39bfa35-f382-4325-b5ef-c987c6d160eb"
      },
      "source": [
        "#label the data set, providing a train, validation and test split from 50,000 reviews\n",
        "AUTOTUNE = tf.data.AUTOTUNE\n",
        "batch_size = 32\n",
        "seed = 44\n",
        "\n",
        "raw_train_ds = tf.keras.preprocessing.text_dataset_from_directory(\n",
        "    'aclImdb/train',\n",
        "    batch_size = batch_size,\n",
        "    validation_split = 0.2,\n",
        "    subset='training',\n",
        "    seed=seed\n",
        ")\n",
        "\n",
        "class_names = raw_train_ds.class_names\n",
        "train_ds = raw_train_ds.cache().prefetch(buffer_size=AUTOTUNE)\n",
        "\n",
        "\n",
        "val_ds = tf.keras.preprocessing.text_dataset_from_directory(\n",
        "    'aclImdb/train',\n",
        "    batch_size=batch_size,\n",
        "    validation_split=0.2,\n",
        "    subset='validation',\n",
        "    seed=seed)\n",
        "\n",
        "val_ds = val_ds.cache().prefetch(buffer_size=AUTOTUNE)\n",
        "\n",
        "test_ds = tf.keras.preprocessing.text_dataset_from_directory(\n",
        "    'aclImdb/test',\n",
        "    batch_size=batch_size\n",
        ")\n",
        "\n",
        "test_ds = test_ds.cache().prefetch(buffer_size=AUTOTUNE)\n",
        "\n"
      ],
      "execution_count": null,
      "outputs": [
        {
          "output_type": "stream",
          "text": [
            "Found 25000 files belonging to 2 classes.\n",
            "Using 20000 files for training.\n",
            "Found 25000 files belonging to 2 classes.\n",
            "Using 5000 files for validation.\n",
            "Found 25000 files belonging to 2 classes.\n"
          ],
          "name": "stdout"
        }
      ]
    },
    {
      "cell_type": "code",
      "metadata": {
        "colab": {
          "base_uri": "https://localhost:8080/"
        },
        "id": "FngchzbTJFFh",
        "outputId": "56346782-4559-4521-aeb1-f2e8f3fb63c0"
      },
      "source": [
        "#look at individual 3 types of reviews\n",
        "for text_batch, label_batch in train_ds.take(3):\n",
        "  for i in range(3):\n",
        "    print(f'Review: {text_batch.numpy()[i]}')\n",
        "    label = label_batch.numpy()[i]\n",
        "    print(f'Label: {label} ({class_names[label]})')\n"
      ],
      "execution_count": null,
      "outputs": [
        {
          "output_type": "stream",
          "text": [
            "Review: b\"I wish I had my rental money back from this piece of trash so I could donate it to the Home for Aged Actors. Total rubbish!! Five people watched this movie at the same time and there wasn't one single laugh to be heard, lots of yawning though. Paltrow's a beautiful woman and she was the best thing to look at in the entire so-called comedic movie..\"\n",
            "Label: 0 (neg)\n",
            "Review: b\"I just finished watching the 139 min version (widescreen) with some friends and we were blown away. I won't bother repeating what others have said. What the filmmakers do with the concept is unexpected and fun. The huge battle is exhausting. Afterwards we were stunned to find there was still nearly 30 minutes left to go but that didn't keep us from being completely involved and entertained.<br /><br />There is one thing that nearly ruined it and that was the horrific music/songs. Blues, Country/Folk and Rock Ballads do not belong here and every time they are used we all broke out in laughter. It's hideous. You have been warned but the story and storytelling keeps you grounded.<br /><br />There are several outstanding moments that make you appreciate the talent behind the camera. There are many uses of silence as well as slow-motion photography that work beautifully. I really wish I could erase the music but alas.<br /><br />Seek this out. It's fun, it's different and it takes you to places you wouldn't expect and that's very refreshing.\"\n",
            "Label: 1 (pos)\n",
            "Review: b'This film is very interesting. I have seen it twice and it seems Glover hit the nail on the head with what he claims to he wants to accomplish. I for one can relate to the outrage that the filmmaker clearly expresses against the current thoughtless corporate drivel that is an onslaught in our every media center, and the things that we as a culture are supposed to not \"think\" about due to corporate media control. The outrage that Glover expresses through the \"outrageous\" elements in the films is both clear in its visceral aggressiveness and beautiful in its poetic potency. I am glad I saw this film and it is even clearer that Glover is up to something interesting with part two of what will be a trilogy. It is fine! EVERYTHING IS FINE. See that also. People that dismiss this film as \"thoughtless\" or \"pretentious\" are really missing the boat. This is an intelligent films. If you can see it with his live show he performs before with his books, that is also very wroth while. The way you get in to his mindset is really something. You will have an experience!'\n",
            "Label: 1 (pos)\n",
            "Review: b\"I just watched The Convent for the second time. I had enjoyed it previously and figured it would make for a good drunken Friday night film, some gore, some style, bit of humour and suchlike. I was saddened to find that I could no longer appreciate it much. It seemed like someone had set out to revisit cheeseball epics like Night of the Demons for a modern audience but lost the things that made the original worthwhile. For the record I'm not even a huge fan of Night of the Demons, but there were some things I really dug about it. The Convent does the cheese but the not the goodness so much. Apart from the main girl (likeable performance from Joanna Canton), the goth girl and a sweet cameo from Adrienne Barbeau pretty much all the characters were excruciatingly unlikeable, festering at the absolute lowest levels of moronic, offensive jockhood. The film is then gravely hampered by the complete lack of gratuitous nudity which means that, given the awful dialogue, it is difficult to watch the characters and harder to appreciate the good points of the film. The evil nuns are original in design and get lots of good scenes, though not scary their certainly kinda cool, and the film also fields a fair amount of neat gore. Towards the end, when Adrienne Barbeau is on the scene the film becomes quite entertaining cause all the obnoxious people are dead and its an evil nun bashing frenzy. The stylised direction also occasionally yields good results, although sometimes the camera just moves too fast. All in all, this was a film where for me the shining good points just can't make up for the things I hated. Those more fond of this kind of film may well enjoy it a lot more, but for me it wasn't a good time.\"\n",
            "Label: 0 (neg)\n",
            "Review: b'I was unsure whether or not Andy Sidaris could repeat his success with the cinematic hit \"Malibu Express.\" With his film Fit to Kill he has proved that Sidaris is a serious filmmaker and not just a one-shot director. The plot written by Sidaris, which was ungratefully passed up by the Academy, is a complex screenplay involving many unseen twists and turns. The main characters composed work for a sexually based radio station known as KSXY. Cleverly, KSXY is actually their secret headquarters. In \"Fit to Kill\" they confront their long-time nemesis Kane, who is trying to steal one of Russia\\'s most prized diamonds. A well-written screenplay is not all, excellent acting by the cast helps to ensure this film as a cult classic. Panned by the critics and the box office, this film will be appreciated in years to come. It is now suffering the same fate as Clockwork Orange and Taxi Driver did, but in the future will undoubtly become recognized. I am disappointed no critic circles have recognized Andy Sidaris\\'s trademark filmmaking. The costumes, the special effects, all help to compliment this already beautiful piece of filmmaking. It may do you best to ignore the dismal 3 rating on this film and go out and rent it for yourself. My personal rating is 10/10. The drama is as thick as the blockbuster Runaway Bride, and the action better or equal to the cinematic masterpiece Last Action Hero. Andy, keep up the good work.'\n",
            "Label: 0 (neg)\n",
            "Review: b\"Sure, if you ask any mom who's the most beautiful baby in the world, she'd tell you her son is the most amazing kid in the whole world. She's right, at least in her own world.<br /><br />The producers of the movie were biggie's mother and his good friend Puffy. Oh, well, do I need to say more? I'll break it down for those who doesn't want to do a simple deduction.<br /><br />The whole movie was fake. You may just put a few biggie's MTV video together and call it a movie.<br /><br />The beautiful Angela Bassett played Biggie's mother. The real one in life looks like a dog.<br /><br />I just wonder why he called himself biggie small. Big body Small dick? Big mouth Small sound? Big fat Small eyes? Disclaimer: I'm a person of color. So keep your racist remark to yourself.\"\n",
            "Label: 0 (neg)\n",
            "Review: b\"Pakeezah has a very interesting history (which is well documented in the 'Trivia' section) about how it came to be. It seems as if destiny conspired to test Kamal Amrohi (the director) while at the same time secretly desiring to see him complete his masterpiece.<br /><br />Pakeezah rides on metaphors, poetry and visual elocution. As a result the intensity with which emotions come out achieve a dimension which may not be very real but are very effective and leave an impact on the viewer.<br /><br />Meena Kumari lives the tragedy of Nargis and Sahib Jaan like her own. The other stars of the film, besides her, are Ghulam Mohammed (the music director), Lata Mangeshkar, Naushad (background score) and Joseph Wirsching (the d.o.p). Their music and cinematography leaves you spell bound.<br /><br />Pakeezah is a classic in world cinema. It reveals new layers to you every time you watch it again. Kamal Amrohi is one of the rare poets of cinema and he left us all a gift.\"\n",
            "Label: 1 (pos)\n",
            "Review: b'It\\'s only 2 episodes into a 5 part drama, but I can already state that this is one of the best things I\\'ve ever seen. That\\'s on TV, silver screen or even in real life.<br /><br />As a writer, it\\'s so good it\\'s almost demoralising! As a viewer it\\'s so entertaining that I\\'m annoyed the episodes are over a fortnight instead of Monday to Friday. It\\'s clear that all these negatives are actually positives.<br /><br />I\\'m a modern guy who previously turned over from TV dramas. In comparison to movies, TV dramas always seemed to be dated, quite tame, and well, generally boring! \"Five Days\" has really brought TV drama into the 21st Century, so for me at least, it\\'s mind changing. Go watch it.'\n",
            "Label: 1 (pos)\n",
            "Review: b\"Like so many media experiments, this amateurish effort contains seeds of a very interesting social commentary. In the 5+ years since it was released, the premise has been made less outrageous by real world events in software development, and I found it less boring than the previous commentator for that reason, I imagine... The director clearly is a fan of Hitchcock, and it's too bad that the film was not better executed, but in fact, it is nearly a parody of pulp fiction, including the soundtrack screeching at us when we are supposed to pay attention. One can almost see the exclamation points and capital letters on a yellowing page.<br /><br />I have to admit I found it rather entertaining for all these reasons and more. Sometimes the slick has less to offer us, and I would recommend it to anyone interested in deconstructing it for education purposes. Oh yes--and even though the seams showed and it creaked a lot, my heart rate went up, and I was reluctant to get up and take a break.\"\n",
            "Label: 0 (neg)\n"
          ],
          "name": "stdout"
        }
      ]
    },
    {
      "cell_type": "code",
      "metadata": {
        "colab": {
          "base_uri": "https://localhost:8080/"
        },
        "id": "xv30YfjjKFs2",
        "outputId": "49413a17-28b0-470a-a5a7-b91713079250"
      },
      "source": [
        "#@title Choose a BERT model to fine-tune\n",
        "\n",
        "bert_model_name = 'small_bert/bert_en_uncased_L-4_H-512_A-8'  #@param [\"bert_en_uncased_L-12_H-768_A-12\", \"bert_en_cased_L-12_H-768_A-12\", \"bert_multi_cased_L-12_H-768_A-12\", \"small_bert/bert_en_uncased_L-2_H-128_A-2\", \"small_bert/bert_en_uncased_L-2_H-256_A-4\", \"small_bert/bert_en_uncased_L-2_H-512_A-8\", \"small_bert/bert_en_uncased_L-2_H-768_A-12\", \"small_bert/bert_en_uncased_L-4_H-128_A-2\", \"small_bert/bert_en_uncased_L-4_H-256_A-4\", \"small_bert/bert_en_uncased_L-4_H-512_A-8\", \"small_bert/bert_en_uncased_L-4_H-768_A-12\", \"small_bert/bert_en_uncased_L-6_H-128_A-2\", \"small_bert/bert_en_uncased_L-6_H-256_A-4\", \"small_bert/bert_en_uncased_L-6_H-512_A-8\", \"small_bert/bert_en_uncased_L-6_H-768_A-12\", \"small_bert/bert_en_uncased_L-8_H-128_A-2\", \"small_bert/bert_en_uncased_L-8_H-256_A-4\", \"small_bert/bert_en_uncased_L-8_H-512_A-8\", \"small_bert/bert_en_uncased_L-8_H-768_A-12\", \"small_bert/bert_en_uncased_L-10_H-128_A-2\", \"small_bert/bert_en_uncased_L-10_H-256_A-4\", \"small_bert/bert_en_uncased_L-10_H-512_A-8\", \"small_bert/bert_en_uncased_L-10_H-768_A-12\", \"small_bert/bert_en_uncased_L-12_H-128_A-2\", \"small_bert/bert_en_uncased_L-12_H-256_A-4\", \"small_bert/bert_en_uncased_L-12_H-512_A-8\", \"small_bert/bert_en_uncased_L-12_H-768_A-12\", \"albert_en_base\", \"electra_small\", \"electra_base\", \"experts_pubmed\", \"experts_wiki_books\", \"talking-heads_base\"]\n",
        "\n",
        "map_name_to_handle = {\n",
        "    'bert_en_uncased_L-12_H-768_A-12':\n",
        "        'https://tfhub.dev/tensorflow/bert_en_uncased_L-12_H-768_A-12/3',\n",
        "    'bert_en_cased_L-12_H-768_A-12':\n",
        "        'https://tfhub.dev/tensorflow/bert_en_cased_L-12_H-768_A-12/3',\n",
        "    'bert_multi_cased_L-12_H-768_A-12':\n",
        "        'https://tfhub.dev/tensorflow/bert_multi_cased_L-12_H-768_A-12/3',\n",
        "    'small_bert/bert_en_uncased_L-2_H-128_A-2':\n",
        "        'https://tfhub.dev/tensorflow/small_bert/bert_en_uncased_L-2_H-128_A-2/1',\n",
        "    'small_bert/bert_en_uncased_L-2_H-256_A-4':\n",
        "        'https://tfhub.dev/tensorflow/small_bert/bert_en_uncased_L-2_H-256_A-4/1',\n",
        "    'small_bert/bert_en_uncased_L-2_H-512_A-8':\n",
        "        'https://tfhub.dev/tensorflow/small_bert/bert_en_uncased_L-2_H-512_A-8/1',\n",
        "    'small_bert/bert_en_uncased_L-2_H-768_A-12':\n",
        "        'https://tfhub.dev/tensorflow/small_bert/bert_en_uncased_L-2_H-768_A-12/1',\n",
        "    'small_bert/bert_en_uncased_L-4_H-128_A-2':\n",
        "        'https://tfhub.dev/tensorflow/small_bert/bert_en_uncased_L-4_H-128_A-2/1',\n",
        "    'small_bert/bert_en_uncased_L-4_H-256_A-4':\n",
        "        'https://tfhub.dev/tensorflow/small_bert/bert_en_uncased_L-4_H-256_A-4/1',\n",
        "    'small_bert/bert_en_uncased_L-4_H-512_A-8':\n",
        "        'https://tfhub.dev/tensorflow/small_bert/bert_en_uncased_L-4_H-512_A-8/1',\n",
        "    'small_bert/bert_en_uncased_L-4_H-768_A-12':\n",
        "        'https://tfhub.dev/tensorflow/small_bert/bert_en_uncased_L-4_H-768_A-12/1',\n",
        "    'small_bert/bert_en_uncased_L-6_H-128_A-2':\n",
        "        'https://tfhub.dev/tensorflow/small_bert/bert_en_uncased_L-6_H-128_A-2/1',\n",
        "    'small_bert/bert_en_uncased_L-6_H-256_A-4':\n",
        "        'https://tfhub.dev/tensorflow/small_bert/bert_en_uncased_L-6_H-256_A-4/1',\n",
        "    'small_bert/bert_en_uncased_L-6_H-512_A-8':\n",
        "        'https://tfhub.dev/tensorflow/small_bert/bert_en_uncased_L-6_H-512_A-8/1',\n",
        "    'small_bert/bert_en_uncased_L-6_H-768_A-12':\n",
        "        'https://tfhub.dev/tensorflow/small_bert/bert_en_uncased_L-6_H-768_A-12/1',\n",
        "    'small_bert/bert_en_uncased_L-8_H-128_A-2':\n",
        "        'https://tfhub.dev/tensorflow/small_bert/bert_en_uncased_L-8_H-128_A-2/1',\n",
        "    'small_bert/bert_en_uncased_L-8_H-256_A-4':\n",
        "        'https://tfhub.dev/tensorflow/small_bert/bert_en_uncased_L-8_H-256_A-4/1',\n",
        "    'small_bert/bert_en_uncased_L-8_H-512_A-8':\n",
        "        'https://tfhub.dev/tensorflow/small_bert/bert_en_uncased_L-8_H-512_A-8/1',\n",
        "    'small_bert/bert_en_uncased_L-8_H-768_A-12':\n",
        "        'https://tfhub.dev/tensorflow/small_bert/bert_en_uncased_L-8_H-768_A-12/1',\n",
        "    'small_bert/bert_en_uncased_L-10_H-128_A-2':\n",
        "        'https://tfhub.dev/tensorflow/small_bert/bert_en_uncased_L-10_H-128_A-2/1',\n",
        "    'small_bert/bert_en_uncased_L-10_H-256_A-4':\n",
        "        'https://tfhub.dev/tensorflow/small_bert/bert_en_uncased_L-10_H-256_A-4/1',\n",
        "    'small_bert/bert_en_uncased_L-10_H-512_A-8':\n",
        "        'https://tfhub.dev/tensorflow/small_bert/bert_en_uncased_L-10_H-512_A-8/1',\n",
        "    'small_bert/bert_en_uncased_L-10_H-768_A-12':\n",
        "        'https://tfhub.dev/tensorflow/small_bert/bert_en_uncased_L-10_H-768_A-12/1',\n",
        "    'small_bert/bert_en_uncased_L-12_H-128_A-2':\n",
        "        'https://tfhub.dev/tensorflow/small_bert/bert_en_uncased_L-12_H-128_A-2/1',\n",
        "    'small_bert/bert_en_uncased_L-12_H-256_A-4':\n",
        "        'https://tfhub.dev/tensorflow/small_bert/bert_en_uncased_L-12_H-256_A-4/1',\n",
        "    'small_bert/bert_en_uncased_L-12_H-512_A-8':\n",
        "        'https://tfhub.dev/tensorflow/small_bert/bert_en_uncased_L-12_H-512_A-8/1',\n",
        "    'small_bert/bert_en_uncased_L-12_H-768_A-12':\n",
        "        'https://tfhub.dev/tensorflow/small_bert/bert_en_uncased_L-12_H-768_A-12/1',\n",
        "    'albert_en_base':\n",
        "        'https://tfhub.dev/tensorflow/albert_en_base/2',\n",
        "    'electra_small':\n",
        "        'https://tfhub.dev/google/electra_small/2',\n",
        "    'electra_base':\n",
        "        'https://tfhub.dev/google/electra_base/2',\n",
        "    'experts_pubmed':\n",
        "        'https://tfhub.dev/google/experts/bert/pubmed/2',\n",
        "    'experts_wiki_books':\n",
        "        'https://tfhub.dev/google/experts/bert/wiki_books/2',\n",
        "    'talking-heads_base':\n",
        "        'https://tfhub.dev/tensorflow/talkheads_ggelu_bert_en_base/1',\n",
        "}\n",
        "\n",
        "map_model_to_preprocess = {\n",
        "    'bert_en_uncased_L-12_H-768_A-12':\n",
        "        'https://tfhub.dev/tensorflow/bert_en_uncased_preprocess/3',\n",
        "    'bert_en_cased_L-12_H-768_A-12':\n",
        "        'https://tfhub.dev/tensorflow/bert_en_cased_preprocess/3',\n",
        "    'small_bert/bert_en_uncased_L-2_H-128_A-2':\n",
        "        'https://tfhub.dev/tensorflow/bert_en_uncased_preprocess/3',\n",
        "    'small_bert/bert_en_uncased_L-2_H-256_A-4':\n",
        "        'https://tfhub.dev/tensorflow/bert_en_uncased_preprocess/3',\n",
        "    'small_bert/bert_en_uncased_L-2_H-512_A-8':\n",
        "        'https://tfhub.dev/tensorflow/bert_en_uncased_preprocess/3',\n",
        "    'small_bert/bert_en_uncased_L-2_H-768_A-12':\n",
        "        'https://tfhub.dev/tensorflow/bert_en_uncased_preprocess/3',\n",
        "    'small_bert/bert_en_uncased_L-4_H-128_A-2':\n",
        "        'https://tfhub.dev/tensorflow/bert_en_uncased_preprocess/3',\n",
        "    'small_bert/bert_en_uncased_L-4_H-256_A-4':\n",
        "        'https://tfhub.dev/tensorflow/bert_en_uncased_preprocess/3',\n",
        "    'small_bert/bert_en_uncased_L-4_H-512_A-8':\n",
        "        'https://tfhub.dev/tensorflow/bert_en_uncased_preprocess/3',\n",
        "    'small_bert/bert_en_uncased_L-4_H-768_A-12':\n",
        "        'https://tfhub.dev/tensorflow/bert_en_uncased_preprocess/3',\n",
        "    'small_bert/bert_en_uncased_L-6_H-128_A-2':\n",
        "        'https://tfhub.dev/tensorflow/bert_en_uncased_preprocess/3',\n",
        "    'small_bert/bert_en_uncased_L-6_H-256_A-4':\n",
        "        'https://tfhub.dev/tensorflow/bert_en_uncased_preprocess/3',\n",
        "    'small_bert/bert_en_uncased_L-6_H-512_A-8':\n",
        "        'https://tfhub.dev/tensorflow/bert_en_uncased_preprocess/3',\n",
        "    'small_bert/bert_en_uncased_L-6_H-768_A-12':\n",
        "        'https://tfhub.dev/tensorflow/bert_en_uncased_preprocess/3',\n",
        "    'small_bert/bert_en_uncased_L-8_H-128_A-2':\n",
        "        'https://tfhub.dev/tensorflow/bert_en_uncased_preprocess/3',\n",
        "    'small_bert/bert_en_uncased_L-8_H-256_A-4':\n",
        "        'https://tfhub.dev/tensorflow/bert_en_uncased_preprocess/3',\n",
        "    'small_bert/bert_en_uncased_L-8_H-512_A-8':\n",
        "        'https://tfhub.dev/tensorflow/bert_en_uncased_preprocess/3',\n",
        "    'small_bert/bert_en_uncased_L-8_H-768_A-12':\n",
        "        'https://tfhub.dev/tensorflow/bert_en_uncased_preprocess/3',\n",
        "    'small_bert/bert_en_uncased_L-10_H-128_A-2':\n",
        "        'https://tfhub.dev/tensorflow/bert_en_uncased_preprocess/3',\n",
        "    'small_bert/bert_en_uncased_L-10_H-256_A-4':\n",
        "        'https://tfhub.dev/tensorflow/bert_en_uncased_preprocess/3',\n",
        "    'small_bert/bert_en_uncased_L-10_H-512_A-8':\n",
        "        'https://tfhub.dev/tensorflow/bert_en_uncased_preprocess/3',\n",
        "    'small_bert/bert_en_uncased_L-10_H-768_A-12':\n",
        "        'https://tfhub.dev/tensorflow/bert_en_uncased_preprocess/3',\n",
        "    'small_bert/bert_en_uncased_L-12_H-128_A-2':\n",
        "        'https://tfhub.dev/tensorflow/bert_en_uncased_preprocess/3',\n",
        "    'small_bert/bert_en_uncased_L-12_H-256_A-4':\n",
        "        'https://tfhub.dev/tensorflow/bert_en_uncased_preprocess/3',\n",
        "    'small_bert/bert_en_uncased_L-12_H-512_A-8':\n",
        "        'https://tfhub.dev/tensorflow/bert_en_uncased_preprocess/3',\n",
        "    'small_bert/bert_en_uncased_L-12_H-768_A-12':\n",
        "        'https://tfhub.dev/tensorflow/bert_en_uncased_preprocess/3',\n",
        "    'bert_multi_cased_L-12_H-768_A-12':\n",
        "        'https://tfhub.dev/tensorflow/bert_multi_cased_preprocess/3',\n",
        "    'albert_en_base':\n",
        "        'https://tfhub.dev/tensorflow/albert_en_preprocess/3',\n",
        "    'electra_small':\n",
        "        'https://tfhub.dev/tensorflow/bert_en_uncased_preprocess/3',\n",
        "    'electra_base':\n",
        "        'https://tfhub.dev/tensorflow/bert_en_uncased_preprocess/3',\n",
        "    'experts_pubmed':\n",
        "        'https://tfhub.dev/tensorflow/bert_en_uncased_preprocess/3',\n",
        "    'experts_wiki_books':\n",
        "        'https://tfhub.dev/tensorflow/bert_en_uncased_preprocess/3',\n",
        "    'talking-heads_base':\n",
        "        'https://tfhub.dev/tensorflow/bert_en_uncased_preprocess/3',\n",
        "}\n",
        "\n",
        "tfhub_handle_encoder = map_name_to_handle[bert_model_name]\n",
        "tfhub_handle_preprocess = map_model_to_preprocess[bert_model_name]\n",
        "\n",
        "print(f'BERT model selected           : {tfhub_handle_encoder}')\n",
        "print(f'Preprocess model auto-selected: {tfhub_handle_preprocess}')"
      ],
      "execution_count": null,
      "outputs": [
        {
          "output_type": "stream",
          "text": [
            "BERT model selected           : https://tfhub.dev/tensorflow/small_bert/bert_en_uncased_L-4_H-512_A-8/1\n",
            "Preprocess model auto-selected: https://tfhub.dev/tensorflow/bert_en_uncased_preprocess/3\n"
          ],
          "name": "stdout"
        }
      ]
    },
    {
      "cell_type": "code",
      "metadata": {
        "id": "wEKZyTbZNBlJ"
      },
      "source": [
        "#select the model ideal for preprocessing your reviews, into numeric tokens\n",
        "bert_preprocess_model = hub.KerasLayer(tfhub_handle_preprocess)"
      ],
      "execution_count": null,
      "outputs": []
    },
    {
      "cell_type": "code",
      "metadata": {
        "colab": {
          "base_uri": "https://localhost:8080/"
        },
        "id": "BrQGqWQANlSn",
        "outputId": "886104b2-82e0-4cb8-f75a-bc98d044a529"
      },
      "source": [
        "#testing same text to see its preprocessing output\n",
        "test_text = ['this is movie is lit one the best action movies of all time']\n",
        "text_preprocessed = bert_preprocess_model(text_test)\n",
        "\n",
        "print(f'Keys       : {list(text_preprocessed.keys())}')\n",
        "print(f'Shape      : {text_preprocessed[\"input_word_ids\"].shape}')\n",
        "print(f'Word Ids   : {text_preprocessed[\"input_word_ids\"][0, :12]}')\n",
        "print(f'Input Mask : {text_preprocessed[\"input_mask\"][0, :12]}')\n",
        "print(f'Type Ids   : {text_preprocessed[\"input_type_ids\"][0, :12]}')"
      ],
      "execution_count": null,
      "outputs": [
        {
          "output_type": "stream",
          "text": [
            "Keys       : ['input_word_ids', 'input_type_ids', 'input_mask']\n",
            "Shape      : (1, 128)\n",
            "Word Ids   : [ 101 2023 2003 2107 2019 6429 3185  999  102    0    0    0]\n",
            "Input Mask : [1 1 1 1 1 1 1 1 1 0 0 0]\n",
            "Type Ids   : [0 0 0 0 0 0 0 0 0 0 0 0]\n"
          ],
          "name": "stdout"
        }
      ]
    },
    {
      "cell_type": "code",
      "metadata": {
        "id": "eVfVpoM8OI8A"
      },
      "source": [
        "bert_model = hub.KerasLayer(tfhub_handle_encoder)"
      ],
      "execution_count": null,
      "outputs": []
    },
    {
      "cell_type": "code",
      "metadata": {
        "colab": {
          "base_uri": "https://localhost:8080/"
        },
        "id": "DTiC_Py9PCMy",
        "outputId": "4cca1fc7-0788-47b9-c623-61ef41e46842"
      },
      "source": [
        "bert_results = bert_model(text_preprocessed)\n",
        "#testing the preprocessing results\n",
        "#pooled output, basically represents the total input sequence. the embedding layer\n",
        "#sequence output, represents each input sequence\n",
        "#encoder_outputs gradual activations in different transformer blocks\n",
        "print(f'Loaded BERT: {tfhub_handle_encoder}')\n",
        "print(f'Pooled Outputs Shape:{bert_results[\"pooled_output\"].shape}')\n",
        "print(f'Pooled Outputs Values:{bert_results[\"pooled_output\"][0, :12]}')\n",
        "print(f'Sequence Outputs Shape:{bert_results[\"sequence_output\"].shape}')\n",
        "print(f'Sequence Outputs Values:{bert_results[\"sequence_output\"][0, :12]}')"
      ],
      "execution_count": null,
      "outputs": [
        {
          "output_type": "stream",
          "text": [
            "Loaded BERT: https://tfhub.dev/tensorflow/small_bert/bert_en_uncased_L-4_H-512_A-8/1\n",
            "Pooled Outputs Shape:(1, 512)\n",
            "Pooled Outputs Values:[ 0.7626293   0.9928098  -0.18611859  0.36673865  0.15233742  0.6550452\n",
            "  0.9681154  -0.94862705  0.00216148 -0.9877732   0.0684269  -0.9763061 ]\n",
            "Sequence Outputs Shape:(1, 128, 512)\n",
            "Sequence Outputs Values:[[-0.28946307  0.34321287  0.33231482 ...  0.21300784  0.7102064\n",
            "  -0.05771124]\n",
            " [-0.28742093  0.3198104  -0.2301862  ...  0.58455014 -0.21329764\n",
            "   0.7269209 ]\n",
            " [-0.6615701   0.6887682  -0.8743294  ...  0.10877228 -0.26173192\n",
            "   0.4785537 ]\n",
            " ...\n",
            " [-0.22561091 -0.28925657 -0.07064448 ...  0.47566032  0.8327713\n",
            "   0.40025362]\n",
            " [-0.298242   -0.27473173 -0.05450522 ...  0.48849788  1.0955355\n",
            "   0.18163413]\n",
            " [-0.44378197  0.00930735  0.07223716 ...  0.172901    1.1833245\n",
            "   0.07898018]]\n"
          ],
          "name": "stdout"
        }
      ]
    },
    {
      "cell_type": "code",
      "metadata": {
        "id": "QOhX2atEP1Tx"
      },
      "source": [
        "#build a model for classification\n",
        "\n",
        "def build_classifier_model():\n",
        "  text_input = tf.keras.layers.Input(shape=(), dtype=tf.string, name='text')\n",
        "  preprocessing_layer = hub.KerasLayer(tfhub_handle_preprocess, name='preprocessing')\n",
        "  encoder_inputs = preprocessing_layer(text_input)\n",
        "  encoder = hub.KerasLayer(tfhub_handle_encoder, trainable=True, name='BERT_encoder')\n",
        "  outputs = encoder(encoder_inputs)\n",
        "  net = outputs['pooled_output']\n",
        "  net = tf.keras.layers.Dropout(0.1)(net)\n",
        "  net = tf.keras.layers.Dense(1, activation=None, name='classifier')(net)\n",
        "  return tf.keras.Model(text_input, net)\n"
      ],
      "execution_count": null,
      "outputs": []
    },
    {
      "cell_type": "code",
      "metadata": {
        "colab": {
          "base_uri": "https://localhost:8080/"
        },
        "id": "pBb_xTmfRFTX",
        "outputId": "6dadc430-3e2f-494b-cc6a-ebb413de7418"
      },
      "source": [
        "#test see if the classifier gives a desired output\n",
        "model = build_classifier_model()\n",
        "bert_raw_result = model(tf.constant(test_text))\n",
        "print(tf.sigmoid(bert_raw_result))"
      ],
      "execution_count": null,
      "outputs": [
        {
          "output_type": "stream",
          "text": [
            "tf.Tensor([[0.4778468]], shape=(1, 1), dtype=float32)\n"
          ],
          "name": "stdout"
        }
      ]
    },
    {
      "cell_type": "code",
      "metadata": {
        "colab": {
          "base_uri": "https://localhost:8080/",
          "height": 466
        },
        "id": "hoaXWvAOReA3",
        "outputId": "8e1e34d5-c172-4744-a7b7-42e215df75a9"
      },
      "source": [
        "#view the model's architechure\n",
        "tf.keras.utils.plot_model(model)\n"
      ],
      "execution_count": null,
      "outputs": [
        {
          "output_type": "execute_result",
          "data": {
            "image/png": "[encoded data removed]",
            "text/plain": [
              "<IPython.core.display.Image object>"
            ]
          },
          "metadata": {
            "tags": []
          },
          "execution_count": 39
        }
      ]
    },
    {
      "cell_type": "code",
      "metadata": {
        "id": "CZm7jedPSzjq"
      },
      "source": [
        "#predefining model compling parameters\n",
        "loss = tf.keras.losses.BinaryCrossentropy(from_logits=True)\n",
        "metrics = tf.metrics.BinaryAccuracy()\n",
        "#predefining metrics for optimizing the model\n",
        "epochs = 5\n",
        "steps_per_epoch = tf.data.experimental.cardinality(train_ds).numpy()\n",
        "num_train_steps = steps_per_epoch * epochs\n",
        "num_warmup_steps = int(0.1 * num_train_steps)\n",
        "#inital learning rate\n",
        "init_lr = 3e-5\n",
        "\n",
        "#optimizer\n",
        "optimizer = optimization.create_optimizer(init_lr=init_lr,\n",
        "                                          num_train_steps=num_train_steps,\n",
        "                                          num_warmup_steps=num_warmup_steps,\n",
        "                                          optimizer_type='adamw')\n"
      ],
      "execution_count": null,
      "outputs": []
    },
    {
      "cell_type": "code",
      "metadata": {
        "id": "zNZtHzWjT5Ap"
      },
      "source": [
        "model.compile(optimizer=optimizer,\n",
        "                         loss=loss,\n",
        "                         metrics=metrics)"
      ],
      "execution_count": null,
      "outputs": []
    },
    {
      "cell_type": "code",
      "metadata": {
        "colab": {
          "base_uri": "https://localhost:8080/"
        },
        "id": "90wJ4-IwU7PG",
        "outputId": "845c6ad3-3be9-4222-c92c-4c4f62f26cab"
      },
      "source": [
        "#fitting and running the model\n",
        "print(f'Training my model with {tfhub_handle_encoder}')\n",
        "history = model.fit(\n",
        "    x=train_ds,\n",
        "    validation_data=val_ds,\n",
        "    epochs=epochs\n",
        ")\n"
      ],
      "execution_count": null,
      "outputs": [
        {
          "output_type": "stream",
          "text": [
            "Training my model with https://tfhub.dev/tensorflow/small_bert/bert_en_uncased_L-4_H-512_A-8/1\n",
            "Epoch 1/5\n",
            "625/625 [==============================] - 3602s 6s/step - loss: 0.4762 - binary_accuracy: 0.7496 - val_loss: 0.3504 - val_binary_accuracy: 0.8422\n",
            "Epoch 2/5\n",
            "625/625 [==============================] - 3590s 6s/step - loss: 0.3317 - binary_accuracy: 0.8493 - val_loss: 0.3586 - val_binary_accuracy: 0.8582\n",
            "Epoch 3/5\n",
            "625/625 [==============================] - 3608s 6s/step - loss: 0.2546 - binary_accuracy: 0.8951 - val_loss: 0.3839 - val_binary_accuracy: 0.8602\n",
            "Epoch 4/5\n",
            "625/625 [==============================] - 3618s 6s/step - loss: 0.1963 - binary_accuracy: 0.9218 - val_loss: 0.4238 - val_binary_accuracy: 0.8608\n",
            "Epoch 5/5\n",
            "625/625 [==============================] - 3617s 6s/step - loss: 0.1556 - binary_accuracy: 0.9416 - val_loss: 0.4345 - val_binary_accuracy: 0.8614\n"
          ],
          "name": "stdout"
        }
      ]
    },
    {
      "cell_type": "code",
      "metadata": {
        "id": "atVZ3EW5jRY7"
      },
      "source": [
        "#evaluate accuracy with the test data\n",
        "loss, accuracy = model.evaluate(test_ds)\n",
        "print(f'Loss: {loss}')\n",
        "print(f'Accuracy: {accuracy}')\n",
        "print(f'Loss: {loss}')\n",
        "print(f'Accuracy: {accuracy}')"
      ],
      "execution_count": null,
      "outputs": []
    },
    {
      "cell_type": "code",
      "metadata": {
        "id": "gNvYQ4BPyioZ"
      },
      "source": [
        "#plot the change in accuracy overtime for both train and test data\n",
        "history_dict = history.history\n",
        "print(history_dict.key())\n",
        "\n",
        "acc = history_dict['binary_accuracy']\n",
        "val_acc = history_dict['val_binary_accuracy']\n",
        "loss = history_dict['loss']\n",
        "val_loss = history_dict['val_loss']\n",
        "\n",
        "epochs = range(1, len(acc) + 1)\n",
        "fig = plt.figure(figsize=(10, 6))\n",
        "fig.tight_layout()\n",
        "\n",
        "plt.subplot(2,1,1)\n",
        "plt.plot(epochs, loss, 'r', label='Training loss')\n",
        "plt.plot(epochs, val_loss, 'b', label='Validation loss')\n",
        "plt.title('Training and Validation Loss')\n",
        "plt.ylable\n",
        "\n",
        "acc = history_dict['binary_accuracy']\n",
        "val_acc = history_dict['val_binary_accuracy']\n",
        "loss = history_dict['loss']\n",
        "val_loss = history_dict['val_loss']\n",
        "\n",
        "epochs = range(1, len(acc) + 1)\n",
        "fig = plt.figure(figsize=(10, 6))\n",
        "fig.tight_layout()\n",
        "\n",
        "plt.subplot(2, 1, 1)\n",
        "# \"bo\" is for \"blue dot\"\n",
        "plt.plot(epochs, loss, 'r', label='Training loss')\n",
        "# b is for \"solid blue line\"\n",
        "plt.plot(epochs, val_loss, 'b', label='Validation loss')\n",
        "plt.title('Training and validation loss')\n",
        "plt.ylabel('Loss')\n",
        "plt.legend()\n",
        "\n",
        "plt.subplot(2, 1, 2)\n",
        "plt.plot(epochs, acc, 'r', label='Training acc')\n",
        "plt.plot(epochs, val_acc, 'b', label='Validation acc')\n",
        "plt.title('Training and validation accuracy')\n",
        "plt.xlabel('Epochs')\n",
        "plt.ylabel('Accuracy')\n",
        "plt.legend(loc='lower right')"
      ],
      "execution_count": null,
      "outputs": []
    },
    {
      "cell_type": "code",
      "metadata": {
        "id": "rEs0n6e7z6rU"
      },
      "source": [
        "#save your model for other uses\n",
        "dataset_name = 'imdb'\n",
        "review_classifier = './{}_bert'.format(dataset_name.replace('/','_'))\n",
        "model.save(review_classifier, include_optimizer=False)\n"
      ],
      "execution_count": null,
      "outputs": []
    },
    {
      "cell_type": "code",
      "metadata": {
        "id": "-shEGMfD0PDY"
      },
      "source": [
        "#reload your model\n",
        "reloaded_model = tf.saved_model.load(review_classifier)\n",
        "reloaded_model = tf.saved_model.load(review_classifier)"
      ],
      "execution_count": null,
      "outputs": []
    },
    {
      "cell_type": "code",
      "metadata": {
        "id": "nacibgTJ0lo4"
      },
      "source": [
        "#test your sample on any random results\n",
        "def print_gen_examples(inputs, results):\n",
        "  result_for_printing = \\\n",
        "  [f'input: {inputs[i]:<30}: score: {results[i][0]:.6f}'\n",
        "  for in range(len(inputs))]\n",
        "\n",
        "  print(*result_for_printing, sep='\\n')\n",
        "  print()\n",
        "\n",
        "examples = [\n",
        "  'this is such an amazing movie!',  \n",
        "  'The movie was great!',\n",
        "  'The movie was meh.',\n",
        "  'The movie was okish.',\n",
        "  'The movie was terrible...'\n",
        "]\n",
        "\n",
        "reloaded_results = tf.sigmoid(reloaded_model(tf.constant(examples)))\n",
        "orginal_results = tf.sigmoid(model(tf.constant(examples)))\n",
        "#performance with the saved model\n",
        "print('Results from the saved model: ')\n",
        "print_gen_examples(examples, reloaded_results)\n",
        "#performance with the model from memory\n",
        "print('Results from the model cached')\n",
        "print_gen_examples(examples, orginial_results)\n",
        "\n"
      ],
      "execution_count": null,
      "outputs": []
    },
    {
      "cell_type": "code",
      "metadata": {
        "id": "7mLSrlcc2MPA"
      },
      "source": [
        "#TFX serving, practicing how to experiment with models for production\n",
        "serving_results = reloaded_model \\\n",
        "            .signatures['serving_default'](tf.constant(examples))\n",
        "\n",
        "serving_results = tf.sigmoid(serving_results['classifier'])\n",
        "\n",
        "print_gen_examples(examples, serving_results)\n",
        "\n",
        "serving_results = reloaded_model \\\n",
        "            .signatures['serving_default'](tf.constant(examples))\n",
        "\n",
        "serving_results = tf.sigmoid(serving_results['classifier'])\n",
        "\n",
        "print_my_examples(examples, serving_results)"
      ],
      "execution_count": null,
      "outputs": []
    }
  ]
}